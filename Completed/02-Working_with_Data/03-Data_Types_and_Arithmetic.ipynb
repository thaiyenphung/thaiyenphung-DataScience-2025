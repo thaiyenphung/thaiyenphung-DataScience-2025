{
  "cells": [
    {
      "cell_type": "markdown",
      "id": "4b15b08b",
      "metadata": {
        "id": "4b15b08b"
      },
      "source": [
        "# 📘 03 - Data Types and Arithmetic\n",
        "\n",
        "Explore Python basics like variables, data types, and arithmetic operations."
      ]
    },
    {
      "cell_type": "markdown",
      "id": "fe930277",
      "metadata": {
        "id": "fe930277"
      },
      "source": [
        "## ✅ Learning Goals\n",
        "- Understand Python data types\n",
        "- Use variables and print statements\n",
        "- Perform basic arithmetic"
      ]
    },
    {
      "cell_type": "code",
      "execution_count": 1,
      "id": "8e873f5b",
      "metadata": {
        "id": "8e873f5b",
        "outputId": "5041221b-03b1-4370-fe25-4825538c349d",
        "colab": {
          "base_uri": "https://localhost:8080/"
        }
      },
      "outputs": [
        {
          "output_type": "stream",
          "name": "stdout",
          "text": [
            "<class 'int'> <class 'float'> <class 'str'>\n"
          ]
        }
      ],
      "source": [
        "# 🧠 Variables and Types\n",
        "x = 10\n",
        "y = 3.5\n",
        "z = 'hello'\n",
        "print(type(x), type(y), type(z))"
      ]
    },
    {
      "cell_type": "code",
      "execution_count": 2,
      "id": "e90e2be4",
      "metadata": {
        "id": "e90e2be4",
        "outputId": "f0f90e0e-f20f-4e07-8442-5533eeb9a589",
        "colab": {
          "base_uri": "https://localhost:8080/"
        }
      },
      "outputs": [
        {
          "output_type": "stream",
          "name": "stdout",
          "text": [
            "Add: 13.5\n",
            "Divide: 2.857142857142857\n",
            "Floor Divide: 2.0\n",
            "Exponent: 100\n"
          ]
        }
      ],
      "source": [
        "# ➕ Arithmetic Operations\n",
        "print('Add:', x + y)\n",
        "print('Divide:', x / y)\n",
        "print('Floor Divide:', x // y)\n",
        "print('Exponent:', x ** 2)"
      ]
    },
    {
      "cell_type": "markdown",
      "id": "7e233e07",
      "metadata": {
        "id": "7e233e07"
      },
      "source": [
        "## ✏️ Try It Yourself\n",
        "- Create your own variables\n",
        "- Try combining numbers and strings\n",
        "- Use `input()` to interact"
      ]
    },
    {
      "cell_type": "code",
      "execution_count": 7,
      "id": "42b3fc61",
      "metadata": {
        "id": "42b3fc61",
        "outputId": "02286282-9e0e-47b5-d711-bd6e343380ea",
        "colab": {
          "base_uri": "https://localhost:8080/"
        }
      },
      "outputs": [
        {
          "output_type": "stream",
          "name": "stdout",
          "text": [
            "What is your name? Phung\n",
            "Welcome, Phung\n",
            "\n",
            "Please enter an integer: 7\n",
            "Please enter a decimal number (up to 3 decimal places, e.g., 1.234): 1.125\n",
            "\n",
            "You entered: 7 and 1.125\n",
            "Sum: 8.125\n",
            "Divide: 6.222222222222222\n",
            "Square of the integer: 49\n",
            "Square of the decimal: 1.265625\n",
            "Modulo of the integer: 1\n"
          ]
        }
      ],
      "source": [
        "# Your code here\n",
        "name = input('What is your name? ')\n",
        "print('Welcome,', name)\n",
        "print()\n",
        "\n",
        "# prompt user to enter 2 numbers\n",
        "num1 = int(input('Please enter an integer: '))\n",
        "num2 = float(input('Please enter a decimal number (up to 3 decimal places, e.g., 1.234): '))\n",
        "print()\n",
        "\n",
        "# perform arithmetic operations and print the results\n",
        "print('You entered:', num1, 'and', num2)\n",
        "print(\"Sum:\", num1 + num2)\n",
        "print('Divide:', num1 / num2)\n",
        "print('Square of the integer:', num1 ** 2)\n",
        "print('Square of the decimal:', num2 ** 2)\n",
        "print('Modulo of the integer:', num1 % 2)\n"
      ]
    },
    {
      "cell_type": "markdown",
      "id": "069d6eba",
      "metadata": {
        "id": "069d6eba"
      },
      "source": [
        "## 📤 Submit\n",
        "Make sure your name is at the top in a Markdown cell.\n",
        "Submit via D2L or Colab link."
      ]
    }
  ],
  "metadata": {
    "colab": {
      "provenance": []
    },
    "language_info": {
      "name": "python"
    },
    "kernelspec": {
      "name": "python3",
      "display_name": "Python 3"
    }
  },
  "nbformat": 4,
  "nbformat_minor": 5
}