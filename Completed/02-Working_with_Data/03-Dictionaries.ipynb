{
  "cells": [
    {
      "cell_type": "markdown",
      "metadata": {
        "id": "view-in-github",
        "colab_type": "text"
      },
      "source": [
        "<a href=\"https://colab.research.google.com/github/thaiyenphung/thaiyenphung-DataScience-2025/blob/main/Completed/02-Working_with_Data/03-Dictionaries.ipynb\" target=\"_parent\"><img src=\"https://colab.research.google.com/assets/colab-badge.svg\" alt=\"Open In Colab\"/></a>"
      ]
    },
    {
      "cell_type": "markdown",
      "id": "ba110f51",
      "metadata": {
        "id": "ba110f51"
      },
      "source": [
        "# 📘 03 - Python Dictionaries\n",
        "\n",
        "Dictionaries store key-value pairs for fast lookups."
      ]
    },
    {
      "cell_type": "markdown",
      "id": "32ad5c23",
      "metadata": {
        "id": "32ad5c23"
      },
      "source": [
        "## ✅ Learning Goals\n",
        "- Create and access dictionary items\n",
        "- Use dictionary methods like `.get()` and `.items()`"
      ]
    },
    {
      "cell_type": "code",
      "execution_count": 1,
      "id": "d69a5483",
      "metadata": {
        "id": "d69a5483",
        "outputId": "6420bba1-29e6-46fb-a489-4a8141528cf0",
        "colab": {
          "base_uri": "https://localhost:8080/"
        }
      },
      "outputs": [
        {
          "output_type": "stream",
          "name": "stdout",
          "text": [
            "{'name': 'Alex', 'age': 21, 'major': 'CS'}\n"
          ]
        }
      ],
      "source": [
        "# 📚 Create a Dictionary\n",
        "student = {'name': 'Alex', 'age': 21, 'major': 'CS'}\n",
        "print(student)"
      ]
    },
    {
      "cell_type": "code",
      "execution_count": 2,
      "id": "c014213d",
      "metadata": {
        "id": "c014213d",
        "outputId": "1812825b-1e4e-4edc-b4d0-cd5e5be7fe3b",
        "colab": {
          "base_uri": "https://localhost:8080/"
        }
      },
      "outputs": [
        {
          "output_type": "stream",
          "name": "stdout",
          "text": [
            "Alex\n",
            "N/A\n"
          ]
        }
      ],
      "source": [
        "# 🔍 Access Values\n",
        "print(student['name'])\n",
        "print(student.get('gpa', 'N/A'))"
      ]
    },
    {
      "cell_type": "code",
      "execution_count": 3,
      "id": "f80fb0b2",
      "metadata": {
        "id": "f80fb0b2",
        "outputId": "70b9a1a4-3d93-48f4-e024-e7c6b2a9810f",
        "colab": {
          "base_uri": "https://localhost:8080/"
        }
      },
      "outputs": [
        {
          "output_type": "stream",
          "name": "stdout",
          "text": [
            "name -> Alex\n",
            "age -> 21\n",
            "major -> CS\n"
          ]
        }
      ],
      "source": [
        "# 🔁 Loop Over Dictionary\n",
        "for key, value in student.items():\n",
        "    print(key, '->', value)"
      ]
    },
    {
      "cell_type": "markdown",
      "id": "aa0e1c66",
      "metadata": {
        "id": "aa0e1c66"
      },
      "source": [
        "## ✏️ Your Turn\n",
        "Create a dictionary to store information about your favorite book."
      ]
    },
    {
      "cell_type": "code",
      "source": [
        "# create a dictionary to store favorite book's info\n",
        "fav_book = {\n",
        "    'name': 'The Miracles of the Namiya General Store',\n",
        "    'author': 'Keigo Higashino',\n",
        "    'genre': 'Fiction',\n",
        "    'publish year': '2012',\n",
        "    'isbn': '978-4-04-110136-0'\n",
        "}\n",
        "\n",
        "# print the entire dictionary\n",
        "print(fav_book)\n",
        "print()\n",
        "\n",
        "# print the book's name using get() method\n",
        "print('name:', fav_book.get('name'))\n",
        "print()\n",
        "\n",
        "# loop over dictionary to print each key value pair\n",
        "for key, value in fav_book.items():\n",
        "    print(key, '->', value)\n",
        "\n"
      ],
      "metadata": {
        "id": "DWmv7X8kHv0r",
        "outputId": "b7cf7de4-b29a-43d5-bb80-9da9c9051756",
        "colab": {
          "base_uri": "https://localhost:8080/"
        }
      },
      "id": "DWmv7X8kHv0r",
      "execution_count": 7,
      "outputs": [
        {
          "output_type": "stream",
          "name": "stdout",
          "text": [
            "{'name': 'The Miracles of the Namiya General Store', 'author': 'Keigo Higashino', 'genre': 'Fiction', 'publish year': '2012', 'isbn': '978-4-04-110136-0'}\n",
            "\n",
            "name: The Miracles of the Namiya General Store\n",
            "\n",
            "name -> The Miracles of the Namiya General Store\n",
            "author -> Keigo Higashino\n",
            "genre -> Fiction\n",
            "publish year -> 2012\n",
            "isbn -> 978-4-04-110136-0\n"
          ]
        }
      ]
    }
  ],
  "metadata": {
    "colab": {
      "provenance": [],
      "include_colab_link": true
    },
    "language_info": {
      "name": "python"
    },
    "kernelspec": {
      "name": "python3",
      "display_name": "Python 3"
    }
  },
  "nbformat": 4,
  "nbformat_minor": 5
}