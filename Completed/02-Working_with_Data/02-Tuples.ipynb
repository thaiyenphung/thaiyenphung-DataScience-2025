{
  "cells": [
    {
      "cell_type": "markdown",
      "id": "4fc4e076",
      "metadata": {
        "id": "4fc4e076"
      },
      "source": [
        "# 📘 02 - Python Tuples\n",
        "\n",
        "Learn what tuples are and how to use them."
      ]
    },
    {
      "cell_type": "markdown",
      "id": "0ec947dd",
      "metadata": {
        "id": "0ec947dd"
      },
      "source": [
        "## ✅ Learning Goals\n",
        "- Create and access tuples\n",
        "- Understand immutability\n",
        "- Use tuple unpacking"
      ]
    },
    {
      "cell_type": "code",
      "execution_count": 1,
      "id": "467cf803",
      "metadata": {
        "id": "467cf803",
        "outputId": "e010fd6c-8806-4ab8-dcba-29dd13dfaff1",
        "colab": {
          "base_uri": "https://localhost:8080/"
        }
      },
      "outputs": [
        {
          "output_type": "stream",
          "name": "stdout",
          "text": [
            "(5, 10)\n"
          ]
        }
      ],
      "source": [
        "# 🔧 Create a Tuple\n",
        "coords = (5, 10)\n",
        "print(coords)"
      ]
    },
    {
      "cell_type": "code",
      "execution_count": 2,
      "id": "13b643c4",
      "metadata": {
        "id": "13b643c4",
        "outputId": "fcdb8e82-5c8b-4d49-f7bd-8a39286b401a",
        "colab": {
          "base_uri": "https://localhost:8080/"
        }
      },
      "outputs": [
        {
          "output_type": "stream",
          "name": "stdout",
          "text": [
            "X: 5\n",
            "Y: 10\n"
          ]
        }
      ],
      "source": [
        "# 🔍 Indexing\n",
        "print('X:', coords[0])\n",
        "print('Y:', coords[1])"
      ]
    },
    {
      "cell_type": "code",
      "execution_count": 3,
      "id": "2c780aea",
      "metadata": {
        "id": "2c780aea",
        "outputId": "949e4860-25ce-45b1-91f9-422e6ee69567",
        "colab": {
          "base_uri": "https://localhost:8080/"
        }
      },
      "outputs": [
        {
          "output_type": "stream",
          "name": "stdout",
          "text": [
            "x + y = 15\n"
          ]
        }
      ],
      "source": [
        "# 🔁 Tuple Unpacking\n",
        "x, y = coords\n",
        "print('x + y =', x + y)"
      ]
    },
    {
      "cell_type": "markdown",
      "id": "3a71407c",
      "metadata": {
        "id": "3a71407c"
      },
      "source": [
        "## 🚫 Tuples are immutable\n",
        "Try uncommenting the line below to see what happens:\n",
        "```python\n",
        "#coords[0] = 100\n",
        "```"
      ]
    },
    {
      "cell_type": "code",
      "source": [
        "coords[0] = 100"
      ],
      "metadata": {
        "id": "sWLW1bMOAwAc",
        "outputId": "6b55fb91-caf5-4ad1-99b7-119def505fd3",
        "colab": {
          "base_uri": "https://localhost:8080/",
          "height": 144
        }
      },
      "id": "sWLW1bMOAwAc",
      "execution_count": 4,
      "outputs": [
        {
          "output_type": "error",
          "ename": "TypeError",
          "evalue": "'tuple' object does not support item assignment",
          "traceback": [
            "\u001b[0;31m---------------------------------------------------------------------------\u001b[0m",
            "\u001b[0;31mTypeError\u001b[0m                                 Traceback (most recent call last)",
            "\u001b[0;32m/tmp/ipython-input-4109396004.py\u001b[0m in \u001b[0;36m<cell line: 0>\u001b[0;34m()\u001b[0m\n\u001b[0;32m----> 1\u001b[0;31m \u001b[0mcoords\u001b[0m\u001b[0;34m[\u001b[0m\u001b[0;36m0\u001b[0m\u001b[0;34m]\u001b[0m \u001b[0;34m=\u001b[0m \u001b[0;36m100\u001b[0m\u001b[0;34m\u001b[0m\u001b[0;34m\u001b[0m\u001b[0m\n\u001b[0m",
            "\u001b[0;31mTypeError\u001b[0m: 'tuple' object does not support item assignment"
          ]
        }
      ]
    },
    {
      "cell_type": "markdown",
      "id": "853762bc",
      "metadata": {
        "id": "853762bc"
      },
      "source": [
        "## ✏️ Your Turn\n",
        "Create a tuple to store your birthday as `(month, day, year)`."
      ]
    },
    {
      "cell_type": "code",
      "source": [
        "myBirthday = ('October', '26th', '1995')\n",
        "\n",
        "month = myBirthday[0]\n",
        "day = myBirthday[1]\n",
        "year = myBirthday[2]\n",
        "\n",
        "print('My birthday is', month, day, year)"
      ],
      "metadata": {
        "id": "MBtEgSEaA1d6",
        "outputId": "b834bff1-5f6e-4758-aa07-cf2df5c43e55",
        "colab": {
          "base_uri": "https://localhost:8080/"
        }
      },
      "id": "MBtEgSEaA1d6",
      "execution_count": 6,
      "outputs": [
        {
          "output_type": "stream",
          "name": "stdout",
          "text": [
            "My birthday is October 26th 1995\n"
          ]
        }
      ]
    }
  ],
  "metadata": {
    "colab": {
      "provenance": []
    },
    "language_info": {
      "name": "python"
    },
    "kernelspec": {
      "name": "python3",
      "display_name": "Python 3"
    }
  },
  "nbformat": 4,
  "nbformat_minor": 5
}